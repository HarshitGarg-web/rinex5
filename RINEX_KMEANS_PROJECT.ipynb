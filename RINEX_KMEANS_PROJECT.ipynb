{
  "cells": [
    {
      "cell_type": "markdown",
      "metadata": {
        "id": "view-in-github",
        "colab_type": "text"
      },
      "source": [
        "<a href=\"https://colab.research.google.com/github/HarshitGarg-web/rinex5/blob/main/RINEX_KMEANS_PROJECT.ipynb\" target=\"_parent\"><img src=\"https://colab.research.google.com/assets/colab-badge.svg\" alt=\"Open In Colab\"/></a>"
      ]
    },
    {
      "cell_type": "code",
      "execution_count": 2,
      "metadata": {
        "id": "ZMceopw8SRCx"
      },
      "outputs": [],
      "source": [
        "import pandas as pd\n",
        "import numpy as np\n",
        "import matplotlib.pyplot as plt\n"
      ]
    },
    {
      "cell_type": "markdown",
      "source": [
        "## RINEX KMEANS PROJECT -2"
      ],
      "metadata": {
        "id": "MeMU53aTpV0_"
      }
    },
    {
      "cell_type": "code",
      "source": [
        "#DATASET USED-https://www.kaggle.com/code/prakharrathi25/weather-data-clustering-using-k-means/notebook"
      ],
      "metadata": {
        "id": "iNKDPsfZl1_K"
      },
      "execution_count": null,
      "outputs": []
    },
    {
      "cell_type": "code",
      "execution_count": 8,
      "metadata": {
        "id": "cu6oXrxjSWGi"
      },
      "outputs": [],
      "source": [
        "df=pd.read_csv('minute_weather.csv')\n",
        "#LOADING DATA FRAME"
      ]
    },
    {
      "cell_type": "code",
      "execution_count": 9,
      "metadata": {
        "colab": {
          "base_uri": "https://localhost:8080/",
          "height": 661
        },
        "id": "3LwXK4z_SjaO",
        "outputId": "4173d816-47b8-41c9-f8bf-2cf3c118b07c"
      },
      "outputs": [
        {
          "output_type": "execute_result",
          "data": {
            "text/plain": [
              "         rowID     hpwren_timestamp  air_pressure  air_temp  \\\n",
              "0            0  2011-09-10 00:00:49         912.3     64.76   \n",
              "1            1  2011-09-10 00:01:49         912.3     63.86   \n",
              "2            2  2011-09-10 00:02:49         912.3     64.22   \n",
              "3            3  2011-09-10 00:03:49         912.3     64.40   \n",
              "4            4  2011-09-10 00:04:49         912.3     64.40   \n",
              "...        ...                  ...           ...       ...   \n",
              "209622  209622  2012-02-02 18:33:28         914.7     52.70   \n",
              "209623  209623  2012-02-02 18:34:28         914.7     52.88   \n",
              "209624  209624  2012-02-02 18:35:28         914.7     52.88   \n",
              "209625  209625  2012-02-02 18:36:28         914.7     52.88   \n",
              "209626  209626  2012-02-02 18:37:28         914.7       NaN   \n",
              "\n",
              "        avg_wind_direction  avg_wind_speed  max_wind_direction  \\\n",
              "0                     97.0             1.2               106.0   \n",
              "1                    161.0             0.8               215.0   \n",
              "2                     77.0             0.7               143.0   \n",
              "3                     89.0             1.2               112.0   \n",
              "4                    185.0             0.4               260.0   \n",
              "...                    ...             ...                 ...   \n",
              "209622                93.0             1.4               126.0   \n",
              "209623               104.0             1.6               116.0   \n",
              "209624                75.0             1.9                92.0   \n",
              "209625                76.0             1.3                94.0   \n",
              "209626                 NaN             NaN                 NaN   \n",
              "\n",
              "        max_wind_speed  min_wind_direction  min_wind_speed  rain_accumulation  \\\n",
              "0                  1.6                85.0             1.0                NaN   \n",
              "1                  1.5                43.0             0.2                0.0   \n",
              "2                  1.2               324.0             0.3                0.0   \n",
              "3                  1.6                12.0             0.7                0.0   \n",
              "4                  1.0               100.0             0.1                0.0   \n",
              "...                ...                 ...             ...                ...   \n",
              "209622             2.0                68.0             0.7                0.0   \n",
              "209623             2.0                89.0             1.4                0.0   \n",
              "209624             2.4                62.0             1.4                0.0   \n",
              "209625             1.6                51.0             0.8                0.0   \n",
              "209626             NaN                 NaN             NaN                NaN   \n",
              "\n",
              "        rain_duration  relative_humidity  \n",
              "0                 NaN               60.5  \n",
              "1                 0.0               39.9  \n",
              "2                 0.0               43.0  \n",
              "3                 0.0               49.5  \n",
              "4                 0.0               58.8  \n",
              "...               ...                ...  \n",
              "209622            0.0               67.7  \n",
              "209623            0.0               67.6  \n",
              "209624            0.0               67.5  \n",
              "209625            0.0               67.5  \n",
              "209626            NaN                NaN  \n",
              "\n",
              "[209627 rows x 13 columns]"
            ],
            "text/html": [
              "\n",
              "  <div id=\"df-e5765b1c-da8b-4a9d-94d4-0c184c3d5f45\">\n",
              "    <div class=\"colab-df-container\">\n",
              "      <div>\n",
              "<style scoped>\n",
              "    .dataframe tbody tr th:only-of-type {\n",
              "        vertical-align: middle;\n",
              "    }\n",
              "\n",
              "    .dataframe tbody tr th {\n",
              "        vertical-align: top;\n",
              "    }\n",
              "\n",
              "    .dataframe thead th {\n",
              "        text-align: right;\n",
              "    }\n",
              "</style>\n",
              "<table border=\"1\" class=\"dataframe\">\n",
              "  <thead>\n",
              "    <tr style=\"text-align: right;\">\n",
              "      <th></th>\n",
              "      <th>rowID</th>\n",
              "      <th>hpwren_timestamp</th>\n",
              "      <th>air_pressure</th>\n",
              "      <th>air_temp</th>\n",
              "      <th>avg_wind_direction</th>\n",
              "      <th>avg_wind_speed</th>\n",
              "      <th>max_wind_direction</th>\n",
              "      <th>max_wind_speed</th>\n",
              "      <th>min_wind_direction</th>\n",
              "      <th>min_wind_speed</th>\n",
              "      <th>rain_accumulation</th>\n",
              "      <th>rain_duration</th>\n",
              "      <th>relative_humidity</th>\n",
              "    </tr>\n",
              "  </thead>\n",
              "  <tbody>\n",
              "    <tr>\n",
              "      <th>0</th>\n",
              "      <td>0</td>\n",
              "      <td>2011-09-10 00:00:49</td>\n",
              "      <td>912.3</td>\n",
              "      <td>64.76</td>\n",
              "      <td>97.0</td>\n",
              "      <td>1.2</td>\n",
              "      <td>106.0</td>\n",
              "      <td>1.6</td>\n",
              "      <td>85.0</td>\n",
              "      <td>1.0</td>\n",
              "      <td>NaN</td>\n",
              "      <td>NaN</td>\n",
              "      <td>60.5</td>\n",
              "    </tr>\n",
              "    <tr>\n",
              "      <th>1</th>\n",
              "      <td>1</td>\n",
              "      <td>2011-09-10 00:01:49</td>\n",
              "      <td>912.3</td>\n",
              "      <td>63.86</td>\n",
              "      <td>161.0</td>\n",
              "      <td>0.8</td>\n",
              "      <td>215.0</td>\n",
              "      <td>1.5</td>\n",
              "      <td>43.0</td>\n",
              "      <td>0.2</td>\n",
              "      <td>0.0</td>\n",
              "      <td>0.0</td>\n",
              "      <td>39.9</td>\n",
              "    </tr>\n",
              "    <tr>\n",
              "      <th>2</th>\n",
              "      <td>2</td>\n",
              "      <td>2011-09-10 00:02:49</td>\n",
              "      <td>912.3</td>\n",
              "      <td>64.22</td>\n",
              "      <td>77.0</td>\n",
              "      <td>0.7</td>\n",
              "      <td>143.0</td>\n",
              "      <td>1.2</td>\n",
              "      <td>324.0</td>\n",
              "      <td>0.3</td>\n",
              "      <td>0.0</td>\n",
              "      <td>0.0</td>\n",
              "      <td>43.0</td>\n",
              "    </tr>\n",
              "    <tr>\n",
              "      <th>3</th>\n",
              "      <td>3</td>\n",
              "      <td>2011-09-10 00:03:49</td>\n",
              "      <td>912.3</td>\n",
              "      <td>64.40</td>\n",
              "      <td>89.0</td>\n",
              "      <td>1.2</td>\n",
              "      <td>112.0</td>\n",
              "      <td>1.6</td>\n",
              "      <td>12.0</td>\n",
              "      <td>0.7</td>\n",
              "      <td>0.0</td>\n",
              "      <td>0.0</td>\n",
              "      <td>49.5</td>\n",
              "    </tr>\n",
              "    <tr>\n",
              "      <th>4</th>\n",
              "      <td>4</td>\n",
              "      <td>2011-09-10 00:04:49</td>\n",
              "      <td>912.3</td>\n",
              "      <td>64.40</td>\n",
              "      <td>185.0</td>\n",
              "      <td>0.4</td>\n",
              "      <td>260.0</td>\n",
              "      <td>1.0</td>\n",
              "      <td>100.0</td>\n",
              "      <td>0.1</td>\n",
              "      <td>0.0</td>\n",
              "      <td>0.0</td>\n",
              "      <td>58.8</td>\n",
              "    </tr>\n",
              "    <tr>\n",
              "      <th>...</th>\n",
              "      <td>...</td>\n",
              "      <td>...</td>\n",
              "      <td>...</td>\n",
              "      <td>...</td>\n",
              "      <td>...</td>\n",
              "      <td>...</td>\n",
              "      <td>...</td>\n",
              "      <td>...</td>\n",
              "      <td>...</td>\n",
              "      <td>...</td>\n",
              "      <td>...</td>\n",
              "      <td>...</td>\n",
              "      <td>...</td>\n",
              "    </tr>\n",
              "    <tr>\n",
              "      <th>209622</th>\n",
              "      <td>209622</td>\n",
              "      <td>2012-02-02 18:33:28</td>\n",
              "      <td>914.7</td>\n",
              "      <td>52.70</td>\n",
              "      <td>93.0</td>\n",
              "      <td>1.4</td>\n",
              "      <td>126.0</td>\n",
              "      <td>2.0</td>\n",
              "      <td>68.0</td>\n",
              "      <td>0.7</td>\n",
              "      <td>0.0</td>\n",
              "      <td>0.0</td>\n",
              "      <td>67.7</td>\n",
              "    </tr>\n",
              "    <tr>\n",
              "      <th>209623</th>\n",
              "      <td>209623</td>\n",
              "      <td>2012-02-02 18:34:28</td>\n",
              "      <td>914.7</td>\n",
              "      <td>52.88</td>\n",
              "      <td>104.0</td>\n",
              "      <td>1.6</td>\n",
              "      <td>116.0</td>\n",
              "      <td>2.0</td>\n",
              "      <td>89.0</td>\n",
              "      <td>1.4</td>\n",
              "      <td>0.0</td>\n",
              "      <td>0.0</td>\n",
              "      <td>67.6</td>\n",
              "    </tr>\n",
              "    <tr>\n",
              "      <th>209624</th>\n",
              "      <td>209624</td>\n",
              "      <td>2012-02-02 18:35:28</td>\n",
              "      <td>914.7</td>\n",
              "      <td>52.88</td>\n",
              "      <td>75.0</td>\n",
              "      <td>1.9</td>\n",
              "      <td>92.0</td>\n",
              "      <td>2.4</td>\n",
              "      <td>62.0</td>\n",
              "      <td>1.4</td>\n",
              "      <td>0.0</td>\n",
              "      <td>0.0</td>\n",
              "      <td>67.5</td>\n",
              "    </tr>\n",
              "    <tr>\n",
              "      <th>209625</th>\n",
              "      <td>209625</td>\n",
              "      <td>2012-02-02 18:36:28</td>\n",
              "      <td>914.7</td>\n",
              "      <td>52.88</td>\n",
              "      <td>76.0</td>\n",
              "      <td>1.3</td>\n",
              "      <td>94.0</td>\n",
              "      <td>1.6</td>\n",
              "      <td>51.0</td>\n",
              "      <td>0.8</td>\n",
              "      <td>0.0</td>\n",
              "      <td>0.0</td>\n",
              "      <td>67.5</td>\n",
              "    </tr>\n",
              "    <tr>\n",
              "      <th>209626</th>\n",
              "      <td>209626</td>\n",
              "      <td>2012-02-02 18:37:28</td>\n",
              "      <td>914.7</td>\n",
              "      <td>NaN</td>\n",
              "      <td>NaN</td>\n",
              "      <td>NaN</td>\n",
              "      <td>NaN</td>\n",
              "      <td>NaN</td>\n",
              "      <td>NaN</td>\n",
              "      <td>NaN</td>\n",
              "      <td>NaN</td>\n",
              "      <td>NaN</td>\n",
              "      <td>NaN</td>\n",
              "    </tr>\n",
              "  </tbody>\n",
              "</table>\n",
              "<p>209627 rows × 13 columns</p>\n",
              "</div>\n",
              "      <button class=\"colab-df-convert\" onclick=\"convertToInteractive('df-e5765b1c-da8b-4a9d-94d4-0c184c3d5f45')\"\n",
              "              title=\"Convert this dataframe to an interactive table.\"\n",
              "              style=\"display:none;\">\n",
              "        \n",
              "  <svg xmlns=\"http://www.w3.org/2000/svg\" height=\"24px\"viewBox=\"0 0 24 24\"\n",
              "       width=\"24px\">\n",
              "    <path d=\"M0 0h24v24H0V0z\" fill=\"none\"/>\n",
              "    <path d=\"M18.56 5.44l.94 2.06.94-2.06 2.06-.94-2.06-.94-.94-2.06-.94 2.06-2.06.94zm-11 1L8.5 8.5l.94-2.06 2.06-.94-2.06-.94L8.5 2.5l-.94 2.06-2.06.94zm10 10l.94 2.06.94-2.06 2.06-.94-2.06-.94-.94-2.06-.94 2.06-2.06.94z\"/><path d=\"M17.41 7.96l-1.37-1.37c-.4-.4-.92-.59-1.43-.59-.52 0-1.04.2-1.43.59L10.3 9.45l-7.72 7.72c-.78.78-.78 2.05 0 2.83L4 21.41c.39.39.9.59 1.41.59.51 0 1.02-.2 1.41-.59l7.78-7.78 2.81-2.81c.8-.78.8-2.07 0-2.86zM5.41 20L4 18.59l7.72-7.72 1.47 1.35L5.41 20z\"/>\n",
              "  </svg>\n",
              "      </button>\n",
              "      \n",
              "  <style>\n",
              "    .colab-df-container {\n",
              "      display:flex;\n",
              "      flex-wrap:wrap;\n",
              "      gap: 12px;\n",
              "    }\n",
              "\n",
              "    .colab-df-convert {\n",
              "      background-color: #E8F0FE;\n",
              "      border: none;\n",
              "      border-radius: 50%;\n",
              "      cursor: pointer;\n",
              "      display: none;\n",
              "      fill: #1967D2;\n",
              "      height: 32px;\n",
              "      padding: 0 0 0 0;\n",
              "      width: 32px;\n",
              "    }\n",
              "\n",
              "    .colab-df-convert:hover {\n",
              "      background-color: #E2EBFA;\n",
              "      box-shadow: 0px 1px 2px rgba(60, 64, 67, 0.3), 0px 1px 3px 1px rgba(60, 64, 67, 0.15);\n",
              "      fill: #174EA6;\n",
              "    }\n",
              "\n",
              "    [theme=dark] .colab-df-convert {\n",
              "      background-color: #3B4455;\n",
              "      fill: #D2E3FC;\n",
              "    }\n",
              "\n",
              "    [theme=dark] .colab-df-convert:hover {\n",
              "      background-color: #434B5C;\n",
              "      box-shadow: 0px 1px 3px 1px rgba(0, 0, 0, 0.15);\n",
              "      filter: drop-shadow(0px 1px 2px rgba(0, 0, 0, 0.3));\n",
              "      fill: #FFFFFF;\n",
              "    }\n",
              "  </style>\n",
              "\n",
              "      <script>\n",
              "        const buttonEl =\n",
              "          document.querySelector('#df-e5765b1c-da8b-4a9d-94d4-0c184c3d5f45 button.colab-df-convert');\n",
              "        buttonEl.style.display =\n",
              "          google.colab.kernel.accessAllowed ? 'block' : 'none';\n",
              "\n",
              "        async function convertToInteractive(key) {\n",
              "          const element = document.querySelector('#df-e5765b1c-da8b-4a9d-94d4-0c184c3d5f45');\n",
              "          const dataTable =\n",
              "            await google.colab.kernel.invokeFunction('convertToInteractive',\n",
              "                                                     [key], {});\n",
              "          if (!dataTable) return;\n",
              "\n",
              "          const docLinkHtml = 'Like what you see? Visit the ' +\n",
              "            '<a target=\"_blank\" href=https://colab.research.google.com/notebooks/data_table.ipynb>data table notebook</a>'\n",
              "            + ' to learn more about interactive tables.';\n",
              "          element.innerHTML = '';\n",
              "          dataTable['output_type'] = 'display_data';\n",
              "          await google.colab.output.renderOutput(dataTable, element);\n",
              "          const docLink = document.createElement('div');\n",
              "          docLink.innerHTML = docLinkHtml;\n",
              "          element.appendChild(docLink);\n",
              "        }\n",
              "      </script>\n",
              "    </div>\n",
              "  </div>\n",
              "  "
            ]
          },
          "metadata": {},
          "execution_count": 9
        }
      ],
      "source": [
        "df"
      ]
    },
    {
      "cell_type": "code",
      "execution_count": 10,
      "metadata": {
        "id": "X5KZbE-JSjyl"
      },
      "outputs": [],
      "source": [
        "df=df.dropna()\n",
        "#DROPPING NONE VALUES"
      ]
    },
    {
      "cell_type": "code",
      "execution_count": 11,
      "metadata": {
        "colab": {
          "base_uri": "https://localhost:8080/",
          "height": 661
        },
        "id": "h1mAFqSES-PG",
        "outputId": "ddab7ef6-d678-40be-d703-e843e7782e8c"
      },
      "outputs": [
        {
          "output_type": "execute_result",
          "data": {
            "text/plain": [
              "         rowID     hpwren_timestamp  air_pressure  air_temp  \\\n",
              "1            1  2011-09-10 00:01:49         912.3     63.86   \n",
              "2            2  2011-09-10 00:02:49         912.3     64.22   \n",
              "3            3  2011-09-10 00:03:49         912.3     64.40   \n",
              "4            4  2011-09-10 00:04:49         912.3     64.40   \n",
              "5            5  2011-09-10 00:05:49         912.3     63.50   \n",
              "...        ...                  ...           ...       ...   \n",
              "209621  209621  2012-02-02 18:32:28         914.7     52.70   \n",
              "209622  209622  2012-02-02 18:33:28         914.7     52.70   \n",
              "209623  209623  2012-02-02 18:34:28         914.7     52.88   \n",
              "209624  209624  2012-02-02 18:35:28         914.7     52.88   \n",
              "209625  209625  2012-02-02 18:36:28         914.7     52.88   \n",
              "\n",
              "        avg_wind_direction  avg_wind_speed  max_wind_direction  \\\n",
              "1                    161.0             0.8               215.0   \n",
              "2                     77.0             0.7               143.0   \n",
              "3                     89.0             1.2               112.0   \n",
              "4                    185.0             0.4               260.0   \n",
              "5                     76.0             2.5                92.0   \n",
              "...                    ...             ...                 ...   \n",
              "209621                95.0             2.2               109.0   \n",
              "209622                93.0             1.4               126.0   \n",
              "209623               104.0             1.6               116.0   \n",
              "209624                75.0             1.9                92.0   \n",
              "209625                76.0             1.3                94.0   \n",
              "\n",
              "        max_wind_speed  min_wind_direction  min_wind_speed  rain_accumulation  \\\n",
              "1                  1.5                43.0             0.2                0.0   \n",
              "2                  1.2               324.0             0.3                0.0   \n",
              "3                  1.6                12.0             0.7                0.0   \n",
              "4                  1.0               100.0             0.1                0.0   \n",
              "5                  3.0                61.0             2.0                0.0   \n",
              "...                ...                 ...             ...                ...   \n",
              "209621             2.7                76.0             1.9                0.0   \n",
              "209622             2.0                68.0             0.7                0.0   \n",
              "209623             2.0                89.0             1.4                0.0   \n",
              "209624             2.4                62.0             1.4                0.0   \n",
              "209625             1.6                51.0             0.8                0.0   \n",
              "\n",
              "        rain_duration  relative_humidity  \n",
              "1                 0.0               39.9  \n",
              "2                 0.0               43.0  \n",
              "3                 0.0               49.5  \n",
              "4                 0.0               58.8  \n",
              "5                 0.0               62.6  \n",
              "...               ...                ...  \n",
              "209621            0.0               67.7  \n",
              "209622            0.0               67.7  \n",
              "209623            0.0               67.6  \n",
              "209624            0.0               67.5  \n",
              "209625            0.0               67.5  \n",
              "\n",
              "[209560 rows x 13 columns]"
            ],
            "text/html": [
              "\n",
              "  <div id=\"df-9c9b583f-2613-4f9e-9b60-051fcdc2accf\">\n",
              "    <div class=\"colab-df-container\">\n",
              "      <div>\n",
              "<style scoped>\n",
              "    .dataframe tbody tr th:only-of-type {\n",
              "        vertical-align: middle;\n",
              "    }\n",
              "\n",
              "    .dataframe tbody tr th {\n",
              "        vertical-align: top;\n",
              "    }\n",
              "\n",
              "    .dataframe thead th {\n",
              "        text-align: right;\n",
              "    }\n",
              "</style>\n",
              "<table border=\"1\" class=\"dataframe\">\n",
              "  <thead>\n",
              "    <tr style=\"text-align: right;\">\n",
              "      <th></th>\n",
              "      <th>rowID</th>\n",
              "      <th>hpwren_timestamp</th>\n",
              "      <th>air_pressure</th>\n",
              "      <th>air_temp</th>\n",
              "      <th>avg_wind_direction</th>\n",
              "      <th>avg_wind_speed</th>\n",
              "      <th>max_wind_direction</th>\n",
              "      <th>max_wind_speed</th>\n",
              "      <th>min_wind_direction</th>\n",
              "      <th>min_wind_speed</th>\n",
              "      <th>rain_accumulation</th>\n",
              "      <th>rain_duration</th>\n",
              "      <th>relative_humidity</th>\n",
              "    </tr>\n",
              "  </thead>\n",
              "  <tbody>\n",
              "    <tr>\n",
              "      <th>1</th>\n",
              "      <td>1</td>\n",
              "      <td>2011-09-10 00:01:49</td>\n",
              "      <td>912.3</td>\n",
              "      <td>63.86</td>\n",
              "      <td>161.0</td>\n",
              "      <td>0.8</td>\n",
              "      <td>215.0</td>\n",
              "      <td>1.5</td>\n",
              "      <td>43.0</td>\n",
              "      <td>0.2</td>\n",
              "      <td>0.0</td>\n",
              "      <td>0.0</td>\n",
              "      <td>39.9</td>\n",
              "    </tr>\n",
              "    <tr>\n",
              "      <th>2</th>\n",
              "      <td>2</td>\n",
              "      <td>2011-09-10 00:02:49</td>\n",
              "      <td>912.3</td>\n",
              "      <td>64.22</td>\n",
              "      <td>77.0</td>\n",
              "      <td>0.7</td>\n",
              "      <td>143.0</td>\n",
              "      <td>1.2</td>\n",
              "      <td>324.0</td>\n",
              "      <td>0.3</td>\n",
              "      <td>0.0</td>\n",
              "      <td>0.0</td>\n",
              "      <td>43.0</td>\n",
              "    </tr>\n",
              "    <tr>\n",
              "      <th>3</th>\n",
              "      <td>3</td>\n",
              "      <td>2011-09-10 00:03:49</td>\n",
              "      <td>912.3</td>\n",
              "      <td>64.40</td>\n",
              "      <td>89.0</td>\n",
              "      <td>1.2</td>\n",
              "      <td>112.0</td>\n",
              "      <td>1.6</td>\n",
              "      <td>12.0</td>\n",
              "      <td>0.7</td>\n",
              "      <td>0.0</td>\n",
              "      <td>0.0</td>\n",
              "      <td>49.5</td>\n",
              "    </tr>\n",
              "    <tr>\n",
              "      <th>4</th>\n",
              "      <td>4</td>\n",
              "      <td>2011-09-10 00:04:49</td>\n",
              "      <td>912.3</td>\n",
              "      <td>64.40</td>\n",
              "      <td>185.0</td>\n",
              "      <td>0.4</td>\n",
              "      <td>260.0</td>\n",
              "      <td>1.0</td>\n",
              "      <td>100.0</td>\n",
              "      <td>0.1</td>\n",
              "      <td>0.0</td>\n",
              "      <td>0.0</td>\n",
              "      <td>58.8</td>\n",
              "    </tr>\n",
              "    <tr>\n",
              "      <th>5</th>\n",
              "      <td>5</td>\n",
              "      <td>2011-09-10 00:05:49</td>\n",
              "      <td>912.3</td>\n",
              "      <td>63.50</td>\n",
              "      <td>76.0</td>\n",
              "      <td>2.5</td>\n",
              "      <td>92.0</td>\n",
              "      <td>3.0</td>\n",
              "      <td>61.0</td>\n",
              "      <td>2.0</td>\n",
              "      <td>0.0</td>\n",
              "      <td>0.0</td>\n",
              "      <td>62.6</td>\n",
              "    </tr>\n",
              "    <tr>\n",
              "      <th>...</th>\n",
              "      <td>...</td>\n",
              "      <td>...</td>\n",
              "      <td>...</td>\n",
              "      <td>...</td>\n",
              "      <td>...</td>\n",
              "      <td>...</td>\n",
              "      <td>...</td>\n",
              "      <td>...</td>\n",
              "      <td>...</td>\n",
              "      <td>...</td>\n",
              "      <td>...</td>\n",
              "      <td>...</td>\n",
              "      <td>...</td>\n",
              "    </tr>\n",
              "    <tr>\n",
              "      <th>209621</th>\n",
              "      <td>209621</td>\n",
              "      <td>2012-02-02 18:32:28</td>\n",
              "      <td>914.7</td>\n",
              "      <td>52.70</td>\n",
              "      <td>95.0</td>\n",
              "      <td>2.2</td>\n",
              "      <td>109.0</td>\n",
              "      <td>2.7</td>\n",
              "      <td>76.0</td>\n",
              "      <td>1.9</td>\n",
              "      <td>0.0</td>\n",
              "      <td>0.0</td>\n",
              "      <td>67.7</td>\n",
              "    </tr>\n",
              "    <tr>\n",
              "      <th>209622</th>\n",
              "      <td>209622</td>\n",
              "      <td>2012-02-02 18:33:28</td>\n",
              "      <td>914.7</td>\n",
              "      <td>52.70</td>\n",
              "      <td>93.0</td>\n",
              "      <td>1.4</td>\n",
              "      <td>126.0</td>\n",
              "      <td>2.0</td>\n",
              "      <td>68.0</td>\n",
              "      <td>0.7</td>\n",
              "      <td>0.0</td>\n",
              "      <td>0.0</td>\n",
              "      <td>67.7</td>\n",
              "    </tr>\n",
              "    <tr>\n",
              "      <th>209623</th>\n",
              "      <td>209623</td>\n",
              "      <td>2012-02-02 18:34:28</td>\n",
              "      <td>914.7</td>\n",
              "      <td>52.88</td>\n",
              "      <td>104.0</td>\n",
              "      <td>1.6</td>\n",
              "      <td>116.0</td>\n",
              "      <td>2.0</td>\n",
              "      <td>89.0</td>\n",
              "      <td>1.4</td>\n",
              "      <td>0.0</td>\n",
              "      <td>0.0</td>\n",
              "      <td>67.6</td>\n",
              "    </tr>\n",
              "    <tr>\n",
              "      <th>209624</th>\n",
              "      <td>209624</td>\n",
              "      <td>2012-02-02 18:35:28</td>\n",
              "      <td>914.7</td>\n",
              "      <td>52.88</td>\n",
              "      <td>75.0</td>\n",
              "      <td>1.9</td>\n",
              "      <td>92.0</td>\n",
              "      <td>2.4</td>\n",
              "      <td>62.0</td>\n",
              "      <td>1.4</td>\n",
              "      <td>0.0</td>\n",
              "      <td>0.0</td>\n",
              "      <td>67.5</td>\n",
              "    </tr>\n",
              "    <tr>\n",
              "      <th>209625</th>\n",
              "      <td>209625</td>\n",
              "      <td>2012-02-02 18:36:28</td>\n",
              "      <td>914.7</td>\n",
              "      <td>52.88</td>\n",
              "      <td>76.0</td>\n",
              "      <td>1.3</td>\n",
              "      <td>94.0</td>\n",
              "      <td>1.6</td>\n",
              "      <td>51.0</td>\n",
              "      <td>0.8</td>\n",
              "      <td>0.0</td>\n",
              "      <td>0.0</td>\n",
              "      <td>67.5</td>\n",
              "    </tr>\n",
              "  </tbody>\n",
              "</table>\n",
              "<p>209560 rows × 13 columns</p>\n",
              "</div>\n",
              "      <button class=\"colab-df-convert\" onclick=\"convertToInteractive('df-9c9b583f-2613-4f9e-9b60-051fcdc2accf')\"\n",
              "              title=\"Convert this dataframe to an interactive table.\"\n",
              "              style=\"display:none;\">\n",
              "        \n",
              "  <svg xmlns=\"http://www.w3.org/2000/svg\" height=\"24px\"viewBox=\"0 0 24 24\"\n",
              "       width=\"24px\">\n",
              "    <path d=\"M0 0h24v24H0V0z\" fill=\"none\"/>\n",
              "    <path d=\"M18.56 5.44l.94 2.06.94-2.06 2.06-.94-2.06-.94-.94-2.06-.94 2.06-2.06.94zm-11 1L8.5 8.5l.94-2.06 2.06-.94-2.06-.94L8.5 2.5l-.94 2.06-2.06.94zm10 10l.94 2.06.94-2.06 2.06-.94-2.06-.94-.94-2.06-.94 2.06-2.06.94z\"/><path d=\"M17.41 7.96l-1.37-1.37c-.4-.4-.92-.59-1.43-.59-.52 0-1.04.2-1.43.59L10.3 9.45l-7.72 7.72c-.78.78-.78 2.05 0 2.83L4 21.41c.39.39.9.59 1.41.59.51 0 1.02-.2 1.41-.59l7.78-7.78 2.81-2.81c.8-.78.8-2.07 0-2.86zM5.41 20L4 18.59l7.72-7.72 1.47 1.35L5.41 20z\"/>\n",
              "  </svg>\n",
              "      </button>\n",
              "      \n",
              "  <style>\n",
              "    .colab-df-container {\n",
              "      display:flex;\n",
              "      flex-wrap:wrap;\n",
              "      gap: 12px;\n",
              "    }\n",
              "\n",
              "    .colab-df-convert {\n",
              "      background-color: #E8F0FE;\n",
              "      border: none;\n",
              "      border-radius: 50%;\n",
              "      cursor: pointer;\n",
              "      display: none;\n",
              "      fill: #1967D2;\n",
              "      height: 32px;\n",
              "      padding: 0 0 0 0;\n",
              "      width: 32px;\n",
              "    }\n",
              "\n",
              "    .colab-df-convert:hover {\n",
              "      background-color: #E2EBFA;\n",
              "      box-shadow: 0px 1px 2px rgba(60, 64, 67, 0.3), 0px 1px 3px 1px rgba(60, 64, 67, 0.15);\n",
              "      fill: #174EA6;\n",
              "    }\n",
              "\n",
              "    [theme=dark] .colab-df-convert {\n",
              "      background-color: #3B4455;\n",
              "      fill: #D2E3FC;\n",
              "    }\n",
              "\n",
              "    [theme=dark] .colab-df-convert:hover {\n",
              "      background-color: #434B5C;\n",
              "      box-shadow: 0px 1px 3px 1px rgba(0, 0, 0, 0.15);\n",
              "      filter: drop-shadow(0px 1px 2px rgba(0, 0, 0, 0.3));\n",
              "      fill: #FFFFFF;\n",
              "    }\n",
              "  </style>\n",
              "\n",
              "      <script>\n",
              "        const buttonEl =\n",
              "          document.querySelector('#df-9c9b583f-2613-4f9e-9b60-051fcdc2accf button.colab-df-convert');\n",
              "        buttonEl.style.display =\n",
              "          google.colab.kernel.accessAllowed ? 'block' : 'none';\n",
              "\n",
              "        async function convertToInteractive(key) {\n",
              "          const element = document.querySelector('#df-9c9b583f-2613-4f9e-9b60-051fcdc2accf');\n",
              "          const dataTable =\n",
              "            await google.colab.kernel.invokeFunction('convertToInteractive',\n",
              "                                                     [key], {});\n",
              "          if (!dataTable) return;\n",
              "\n",
              "          const docLinkHtml = 'Like what you see? Visit the ' +\n",
              "            '<a target=\"_blank\" href=https://colab.research.google.com/notebooks/data_table.ipynb>data table notebook</a>'\n",
              "            + ' to learn more about interactive tables.';\n",
              "          element.innerHTML = '';\n",
              "          dataTable['output_type'] = 'display_data';\n",
              "          await google.colab.output.renderOutput(dataTable, element);\n",
              "          const docLink = document.createElement('div');\n",
              "          docLink.innerHTML = docLinkHtml;\n",
              "          element.appendChild(docLink);\n",
              "        }\n",
              "      </script>\n",
              "    </div>\n",
              "  </div>\n",
              "  "
            ]
          },
          "metadata": {},
          "execution_count": 11
        }
      ],
      "source": [
        "df"
      ]
    },
    {
      "cell_type": "code",
      "execution_count": 12,
      "metadata": {
        "id": "REQvxL_YS-is"
      },
      "outputs": [],
      "source": [
        "x=df.iloc[:,2:].values\n",
        "#GETTING INPUT VALUES "
      ]
    },
    {
      "cell_type": "code",
      "execution_count": 13,
      "metadata": {
        "colab": {
          "base_uri": "https://localhost:8080/",
          "height": 0
        },
        "id": "_kXwz535UX7w",
        "outputId": "2a9f5b38-6845-4c8c-f407-c3353486f979"
      },
      "outputs": [
        {
          "output_type": "execute_result",
          "data": {
            "text/plain": [
              "array([[912.3 ,  63.86, 161.  , ...,   0.  ,   0.  ,  39.9 ],\n",
              "       [912.3 ,  64.22,  77.  , ...,   0.  ,   0.  ,  43.  ],\n",
              "       [912.3 ,  64.4 ,  89.  , ...,   0.  ,   0.  ,  49.5 ],\n",
              "       ...,\n",
              "       [914.7 ,  52.88, 104.  , ...,   0.  ,   0.  ,  67.6 ],\n",
              "       [914.7 ,  52.88,  75.  , ...,   0.  ,   0.  ,  67.5 ],\n",
              "       [914.7 ,  52.88,  76.  , ...,   0.  ,   0.  ,  67.5 ]])"
            ]
          },
          "metadata": {},
          "execution_count": 13
        }
      ],
      "source": [
        "x\n",
        "#NO OUTPUT VALUES AS IT IS UNSUPERVISD LEARNING"
      ]
    },
    {
      "cell_type": "code",
      "execution_count": 14,
      "metadata": {
        "id": "7a_KnMlgUavE"
      },
      "outputs": [],
      "source": [
        "from sklearn.preprocessing import MinMaxScaler\n",
        "scaler=MinMaxScaler()\n",
        "x=scaler.fit_transform(x)\n",
        "#SCLAING THE INPUT VALUES\n"
      ]
    },
    {
      "cell_type": "code",
      "execution_count": 15,
      "metadata": {
        "colab": {
          "base_uri": "https://localhost:8080/",
          "height": 0
        },
        "id": "AAW8Ci_nUoDc",
        "outputId": "2cc27d2d-c15d-4783-fa7e-350e6df6bf3d"
      },
      "outputs": [
        {
          "output_type": "execute_result",
          "data": {
            "text/plain": [
              "array([[0.25862069, 0.50163934, 0.44846797, ..., 0.        , 0.        ,\n",
              "        0.42076503],\n",
              "       [0.25862069, 0.50819672, 0.21448468, ..., 0.        , 0.        ,\n",
              "        0.45464481],\n",
              "       [0.25862069, 0.51147541, 0.24791086, ..., 0.        , 0.        ,\n",
              "        0.52568306],\n",
              "       ...,\n",
              "       [0.36206897, 0.30163934, 0.28969359, ..., 0.        , 0.        ,\n",
              "        0.72349727],\n",
              "       [0.36206897, 0.30163934, 0.20891365, ..., 0.        , 0.        ,\n",
              "        0.72240437],\n",
              "       [0.36206897, 0.30163934, 0.21169916, ..., 0.        , 0.        ,\n",
              "        0.72240437]])"
            ]
          },
          "metadata": {},
          "execution_count": 15
        }
      ],
      "source": [
        "x"
      ]
    },
    {
      "cell_type": "code",
      "execution_count": 17,
      "metadata": {
        "colab": {
          "base_uri": "https://localhost:8080/",
          "height": 282
        },
        "id": "tEGcMlIfVPQ1",
        "outputId": "2a36d6a5-363d-4397-e702-7849dd4cad5d"
      },
      "outputs": [
        {
          "output_type": "execute_result",
          "data": {
            "text/plain": [
              "[<matplotlib.lines.Line2D at 0x7f397a38f410>]"
            ]
          },
          "metadata": {},
          "execution_count": 17
        },
        {
          "output_type": "display_data",
          "data": {
            "text/plain": [
              "<Figure size 432x288 with 1 Axes>"
            ],
            "image/png": "[encoded data removed]"
          },
          "metadata": {
            "needs_background": "light"
          }
        }
      ],
      "source": [
        "#POTTING THE ERROR VALUES FOR DIFFRENT CLUSTERS\n",
        "from sklearn.cluster import KMeans\n",
        "k=range(2,20)\n",
        "sse=[]\n",
        "for i in k:\n",
        "  model=KMeans(n_clusters=i,random_state=0)\n",
        "  model.fit(x)\n",
        "  sse.append(model.inertia_)\n",
        "sse\n",
        "plt.scatter(k,sse)\n",
        "plt.plot(k,sse)\n",
        "#AFTER SEEING THE GRAPH IT IS NOT SURE HOW MANY CLUSTERS TO CHOOSE\n"
      ]
    },
    {
      "cell_type": "code",
      "execution_count": 19,
      "metadata": {
        "id": "CFPEslIHVgCd",
        "colab": {
          "base_uri": "https://localhost:8080/",
          "height": 0
        },
        "outputId": "549824c9-722e-44cc-f66b-e29db791e9bf"
      },
      "outputs": [
        {
          "output_type": "stream",
          "name": "stdout",
          "text": [
            "2 clusters,score =0.33571258625425926\n",
            "3 clusters,score =0.34469062614873736\n",
            "4 clusters,score =0.3790709321882773\n",
            "5 clusters,score =0.3350284257179072\n",
            "6 clusters,score =0.35506257255537943\n",
            "7 clusters,score =0.3485953215619297\n",
            "8 clusters,score =0.3170311782565195\n",
            "9 clusters,score =0.3254747369368358\n",
            "10 clusters,score =0.30693120245529754\n",
            "11 clusters,score =0.28876125079391096\n",
            "12 clusters,score =0.2821454140742694\n",
            "13 clusters,score =0.2845740738985329\n",
            "14 clusters,score =0.2744349438550364\n",
            "15 clusters,score =0.26449208441828587\n",
            "16 clusters,score =0.256907542636348\n",
            "17 clusters,score =0.2773285296021711\n",
            "18 clusters,score =0.2763545017196788\n",
            "19 clusters,score =0.254827883987439\n"
          ]
        }
      ],
      "source": [
        "\n",
        "#PRINTING THE SILHOUETTE SCORE FOR EVERY CLUSTER\n",
        "from sklearn.metrics import silhouette_score\n",
        "k=range(2,20)\n",
        "for i in k:\n",
        "  model=KMeans(n_clusters=i,random_state=0)\n",
        "  model.fit(x)\n",
        "  y_pred=model.predict(x)\n",
        "  print(f'{i} clusters,score ={silhouette_score(x,y_pred)}')\n",
        "#WE CAN SEE THAT 4 CLUSTERS HAS THE HIGHEST SILHOUETTE SCORE  \n",
        "\n"
      ]
    },
    {
      "cell_type": "code",
      "source": [
        "# CONFIRMATION -4 CLUSTERS"
      ],
      "metadata": {
        "id": "fq9_jFXn4R8q"
      },
      "execution_count": 20,
      "outputs": []
    },
    {
      "cell_type": "code",
      "source": [
        "k=4\n",
        "model=KMeans(n_clusters=4,random_state=0)\n",
        "model.fit(x)\n",
        "#FITTING THE MODEL WITH 4 CLUSTERS"
      ],
      "metadata": {
        "colab": {
          "base_uri": "https://localhost:8080/",
          "height": 0
        },
        "id": "wBBLqMvrjhPJ",
        "outputId": "8e5456cf-fdce-4389-beea-f98cec550bee"
      },
      "execution_count": 21,
      "outputs": [
        {
          "output_type": "execute_result",
          "data": {
            "text/plain": [
              "KMeans(n_clusters=4, random_state=0)"
            ]
          },
          "metadata": {},
          "execution_count": 21
        }
      ]
    },
    {
      "cell_type": "code",
      "source": [
        "y_pred=model.predict(x)\n",
        "y_pred\n",
        "#PREDICTING THE VALUES"
      ],
      "metadata": {
        "colab": {
          "base_uri": "https://localhost:8080/",
          "height": 0
        },
        "id": "OAlbtSc_j8_C",
        "outputId": "9eba4837-1709-4e34-e6bb-87d0c14d42f8"
      },
      "execution_count": 22,
      "outputs": [
        {
          "output_type": "execute_result",
          "data": {
            "text/plain": [
              "array([3, 2, 1, ..., 0, 1, 1], dtype=int32)"
            ]
          },
          "metadata": {},
          "execution_count": 22
        }
      ]
    },
    {
      "cell_type": "code",
      "source": [
        "y_pred.size"
      ],
      "metadata": {
        "colab": {
          "base_uri": "https://localhost:8080/",
          "height": 0
        },
        "id": "EUxO494CkExW",
        "outputId": "554e7430-0b18-46b3-dca8-9491d4a231c0"
      },
      "execution_count": 23,
      "outputs": [
        {
          "output_type": "execute_result",
          "data": {
            "text/plain": [
              "209560"
            ]
          },
          "metadata": {},
          "execution_count": 23
        }
      ]
    },
    {
      "cell_type": "code",
      "source": [
        "np.unique(y_pred,return_counts=True)"
      ],
      "metadata": {
        "colab": {
          "base_uri": "https://localhost:8080/",
          "height": 0
        },
        "id": "ZHASc4XAkGvV",
        "outputId": "f02605ad-b9e3-4fcb-bf4e-f1718067dfb8"
      },
      "execution_count": 24,
      "outputs": [
        {
          "output_type": "execute_result",
          "data": {
            "text/plain": [
              "(array([0, 1, 2, 3], dtype=int32), array([53819, 78266, 12899, 64576]))"
            ]
          },
          "metadata": {},
          "execution_count": 24
        }
      ]
    },
    {
      "cell_type": "code",
      "source": [
        "model.cluster_centers_\n",
        "#PRINTING THE CLUSTER CENTROIDS"
      ],
      "metadata": {
        "colab": {
          "base_uri": "https://localhost:8080/",
          "height": 0
        },
        "id": "oHof8gp0kp6H",
        "outputId": "816763f4-df7a-4514-8d55-aef71bd9696a"
      },
      "execution_count": 28,
      "outputs": [
        {
          "output_type": "execute_result",
          "data": {
            "text/plain": [
              "array([[4.13787738e-01, 2.12312639e-01, 5.73735689e-01, 1.28478152e-01,\n",
              "        5.68997172e-01, 1.39317500e-01, 5.27032756e-01, 1.01274242e-01,\n",
              "        3.36528637e-03, 3.83213509e-02, 8.85205031e-01],\n",
              "       [5.73845456e-01, 4.55594051e-01, 1.49541548e-01, 1.42612684e-01,\n",
              "        1.88351975e-01, 1.54204502e-01, 1.11149970e-01, 1.14387276e-01,\n",
              "        1.30970330e-05, 4.36567768e-04, 2.87649360e-01],\n",
              "       [5.44023848e-01, 4.41023758e-01, 4.90485593e-02, 7.24876021e-02,\n",
              "        1.49155472e-01, 8.81712348e-02, 9.51827123e-01, 4.74094707e-02,\n",
              "        1.45326306e-04, 2.35105668e-03, 3.94332645e-01],\n",
              "       [5.01434957e-01, 5.32755123e-01, 6.30483211e-01, 9.26856738e-02,\n",
              "        5.88553023e-01, 9.96289174e-02, 5.80567106e-01, 7.31878843e-02,\n",
              "        2.67164341e-05, 2.83942778e-04, 3.15774904e-01]])"
            ]
          },
          "metadata": {},
          "execution_count": 28
        }
      ]
    },
    {
      "cell_type": "code",
      "source": [],
      "metadata": {
        "id": "Smbbhweck3Kv"
      },
      "execution_count": null,
      "outputs": []
    }
  ],
  "metadata": {
    "colab": {
      "provenance": [],
      "authorship_tag": "ABX9TyPK1rZZfi/Lw0R5nihZUFKt",
      "include_colab_link": true
    },
    "kernelspec": {
      "display_name": "Python 3",
      "name": "python3"
    },
    "language_info": {
      "name": "python"
    }
  },
  "nbformat": 4,
  "nbformat_minor": 0
}